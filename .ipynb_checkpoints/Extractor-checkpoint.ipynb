{
 "cells": [
  {
   "cell_type": "code",
   "execution_count": 1,
   "metadata": {},
   "outputs": [],
   "source": [
    "import cv2\n",
    "import numpy as np\n",
    "from matplotlib import pyplot as plt"
   ]
  },
  {
   "cell_type": "code",
   "execution_count": 2,
   "metadata": {},
   "outputs": [
    {
     "ename": "error",
     "evalue": "OpenCV(4.4.0) C:\\Users\\appveyor\\AppData\\Local\\Temp\\1\\pip-req-build-h4wtvo23\\opencv\\modules\\highgui\\src\\window.cpp:376: error: (-215:Assertion failed) size.width>0 && size.height>0 in function 'cv::imshow'\n",
     "output_type": "error",
     "traceback": [
      "\u001b[1;31m---------------------------------------------------------------------------\u001b[0m",
      "\u001b[1;31merror\u001b[0m                                     Traceback (most recent call last)",
      "\u001b[1;32m<ipython-input-2-43b91b6f9a55>\u001b[0m in \u001b[0;36m<module>\u001b[1;34m\u001b[0m\n\u001b[0;32m      4\u001b[0m \u001b[1;31m#img = cv2.imread(\"imageInfect1.jpg\")\u001b[0m\u001b[1;33m\u001b[0m\u001b[1;33m\u001b[0m\u001b[1;33m\u001b[0m\u001b[0m\n\u001b[0;32m      5\u001b[0m \u001b[0mimg\u001b[0m \u001b[1;33m=\u001b[0m \u001b[0mcv2\u001b[0m\u001b[1;33m.\u001b[0m\u001b[0mimread\u001b[0m\u001b[1;33m(\u001b[0m\u001b[1;34m\"image.jpg\"\u001b[0m\u001b[1;33m)\u001b[0m\u001b[1;33m\u001b[0m\u001b[1;33m\u001b[0m\u001b[0m\n\u001b[1;32m----> 6\u001b[1;33m \u001b[0mcv2\u001b[0m\u001b[1;33m.\u001b[0m\u001b[0mimshow\u001b[0m\u001b[1;33m(\u001b[0m\u001b[1;34m\"Original\"\u001b[0m\u001b[1;33m,\u001b[0m \u001b[0mimg\u001b[0m\u001b[1;33m)\u001b[0m\u001b[1;33m\u001b[0m\u001b[1;33m\u001b[0m\u001b[0m\n\u001b[0m",
      "\u001b[1;31merror\u001b[0m: OpenCV(4.4.0) C:\\Users\\appveyor\\AppData\\Local\\Temp\\1\\pip-req-build-h4wtvo23\\opencv\\modules\\highgui\\src\\window.cpp:376: error: (-215:Assertion failed) size.width>0 && size.height>0 in function 'cv::imshow'\n"
     ]
    }
   ],
   "source": [
    "#Cargar la imagen de entrada y procesarla en OpenCV\n",
    "#img = cv2.imread(\"image.jpg\")\n",
    "#img = cv2.imread(\"imageInfect.jpg\")\n",
    "#img = cv2.imread(\"imageInfect1.jpg\")\n",
    "img = cv2.imread(\"image.jpg\")\n",
    "cv2.imshow(\"Original\", img)"
   ]
  },
  {
   "cell_type": "code",
   "execution_count": 23,
   "metadata": {},
   "outputs": [],
   "source": [
    "#Transformación del espacio de color\n",
    "gris= cv2.cvtColor(img, cv2.COLOR_RGB2GRAY)\n",
    "cv2.imshow(\"Escala de gris\", gris)"
   ]
  },
  {
   "cell_type": "code",
   "execution_count": 24,
   "metadata": {},
   "outputs": [],
   "source": [
    "#Eliminar ruido\n",
    "gauss = cv2.GaussianBlur(gris, (5,5), 0)\n",
    "cv2.imshow(\"ruido - gauss\", gauss)"
   ]
  },
  {
   "cell_type": "code",
   "execution_count": 25,
   "metadata": {},
   "outputs": [],
   "source": [
    "#Equalizar Histograma\n",
    "eq = cv2.equalizeHist(gris)\n",
    "cv2.imshow(\"Eq\", eq)\n",
    "#Equalizar Histograma\n",
    "eq1 = cv2.equalizeHist(gauss)\n",
    "cv2.imshow(\"Eq-gauss\", eq)"
   ]
  },
  {
   "cell_type": "code",
   "execution_count": 26,
   "metadata": {},
   "outputs": [],
   "source": [
    "#Segmentación por umbralización (thresholding) \n",
    "#Binarización\n",
    "_,binaria = cv2.threshold(eq1, 0, 255, cv2.THRESH_BINARY_INV + cv2.THRESH_OTSU)\n",
    "cv2.imshow(\"Binary IMAGE\", binaria)\n",
    "#Encontrar contornos\n",
    "img_contours = cv2.findContours(binaria, cv2.RETR_TREE, cv2. CHAIN_APPROX_SIMPLE)[-2]\n",
    "img_contours = sorted(img_contours, key=cv2.contourArea)\n",
    "for i in img_contours:\n",
    "    if cv2.contourArea(i) > 10000:\n",
    "        break\n",
    "mask = np.zeros(img.shape[:2], np.uint8)\n",
    "cv2.drawContours(mask, [i], -1, 255, -1)\n",
    "#Extraer hoja, eliminar fondo\n",
    "new_img = cv2.bitwise_and(img, img, mask = mask)\n",
    "cv2.imshow(\"Quitar fondo\", new_img)"
   ]
  },
  {
   "cell_type": "code",
   "execution_count": 27,
   "metadata": {},
   "outputs": [],
   "source": [
    "#Redimensionar\n",
    "newImg = cv2.resize(img, (0,0), fx=0.75, fy=0.75)\n",
    "#cv2.imshow('Resized Image', newImg)"
   ]
  },
  {
   "cell_type": "code",
   "execution_count": 28,
   "metadata": {},
   "outputs": [],
   "source": [
    "kernel = np.ones((5,5), np.uint8)\n",
    "opening = cv2.morphologyEx(new_img, cv2.MORPH_OPEN, kernel)\n",
    "close = cv2.morphologyEx(opening, cv2.MORPH_CLOSE, kernel)\n",
    "cv2.imshow('Improved', close)\n",
    "\n",
    "img_erosion = cv2.erode(new_img, kernel, iterations=1)\n",
    "cv2.imshow('Improved Erosion', close)\n",
    "\n",
    "img_dilation = cv2.dilate(new_img, kernel, iterations=1) \n",
    "img_opening = cv2.morphologyEx(new_img, cv2.MORPH_OPEN, kernel)\n",
    "img_closing = cv2.morphologyEx(new_img, cv2.MORPH_CLOSE, kernel)"
   ]
  },
  {
   "cell_type": "code",
   "execution_count": 29,
   "metadata": {},
   "outputs": [],
   "source": [
    "#Transformación del espacio de color\n",
    "lab = cv2.cvtColor(close, cv2.COLOR_RGB2LAB)\n",
    "#cv2.imshow(\"Original LAB\", lab)\n",
    "hsv = cv2.cvtColor(close, cv2.COLOR_RGB2HSV)\n",
    "#cv2.imshow(\"Original HSV\", hsv)\n",
    "#Arreglos de verde\n",
    "# lab\n",
    "cafe_bajos = np.array([0*255/100, -127+128, 0+128])\n",
    "cafe_altos = np.array([100*255/100, 0+128, 127+128])\n",
    "#hsv\n",
    "verde_bajos = np.array([40,50,50])\n",
    "verde_altos = np.array([80, 255, 255])\n",
    "#Crear mascara\n",
    "mask_brown = cv2.inRange(lab, cafe_bajos,cafe_altos)\n",
    "cv2.imshow(\"MASK BROWN\", mask_brown)\n",
    "mask_green = cv2.inRange(hsv, verde_bajos,verde_altos)\n",
    "cv2.imshow(\"Mascara Verde\", mask_green)\n",
    "new_img = cv2.bitwise_and(img, img, mask = mask_brown)\n",
    "cv2.imshow(\"Mask\", new_img)\n"
   ]
  },
  {
   "cell_type": "code",
   "execution_count": 30,
   "metadata": {},
   "outputs": [
    {
     "name": "stdout",
     "output_type": "stream",
     "text": [
      "\n",
      "Pulsa cualquier tecla para cerrar las ventanas\n",
      "\n"
     ]
    }
   ],
   "source": [
    "print(\"\\nPulsa cualquier tecla para cerrar las ventanas\\n\")\n",
    "cv2.waitKey(0)\n",
    "cv2.destroyAllWindows()"
   ]
  },
  {
   "cell_type": "code",
   "execution_count": null,
   "metadata": {},
   "outputs": [],
   "source": []
  }
 ],
 "metadata": {
  "kernelspec": {
   "display_name": "Python 3",
   "language": "python",
   "name": "python3"
  },
  "language_info": {
   "codemirror_mode": {
    "name": "ipython",
    "version": 3
   },
   "file_extension": ".py",
   "mimetype": "text/x-python",
   "name": "python",
   "nbconvert_exporter": "python",
   "pygments_lexer": "ipython3",
   "version": "3.8.3"
  }
 },
 "nbformat": 4,
 "nbformat_minor": 4
}
